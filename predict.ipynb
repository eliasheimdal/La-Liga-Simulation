{
 "cells": [
  {
   "cell_type": "code",
   "execution_count": 12,
   "metadata": {},
   "outputs": [],
   "source": [
    "import pandas as pd\n",
    "import numpy as np"
   ]
  },
  {
   "cell_type": "code",
   "execution_count": 2,
   "metadata": {},
   "outputs": [],
   "source": [
    "df = pd.read_csv('season-2425.csv', encoding='utf-8')"
   ]
  },
  {
   "cell_type": "code",
   "execution_count": null,
   "metadata": {},
   "outputs": [],
   "source": [
    "print(\"Initial Data Preview:\")\n",
    "print(df.head())"
   ]
  },
  {
   "cell_type": "code",
   "execution_count": null,
   "metadata": {},
   "outputs": [],
   "source": [
    "df.columns = df.columns.str.strip()\n",
    "\n",
    "# Convert the 'Date' column to datetime objects.\n",
    "df['Date'] = pd.to_datetime(df['Date'], format='%d/%m/%y')\n",
    "\n",
    "# Check for missing values in each column\n",
    "print(\"\\nMissing Values per Column:\")\n",
    "print(df.isnull().sum())"
   ]
  },
  {
   "cell_type": "code",
   "execution_count": 5,
   "metadata": {},
   "outputs": [],
   "source": [
    "df.drop(columns=['Referee'], inplace=True)"
   ]
  },
  {
   "cell_type": "code",
   "execution_count": 6,
   "metadata": {},
   "outputs": [],
   "source": [
    "df['home_goal_diff'] = df['FTHG'] - df['FTAG']\n",
    "df['away_goal_diff'] = df['FTAG'] - df['FTHG']"
   ]
  },
  {
   "cell_type": "code",
   "execution_count": 7,
   "metadata": {},
   "outputs": [],
   "source": [
    "df['home_win'] = np.where(df['FTR'] == 'H', 1, 0)\n",
    "df['home_draw'] = np.where(df['FTR'] == 'D', 1, 0)\n",
    "df['home_loss'] = np.where(df['FTR'] == 'A', 1, 0)\n",
    "\n",
    "df['away_win'] = np.where(df['FTR'] == 'A', 1, 0)\n",
    "df['away_draw'] = np.where(df['FTR'] == 'D', 1, 0)\n",
    "df['away_loss'] = np.where(df['FTR'] == 'H', 1, 0)\n"
   ]
  },
  {
   "cell_type": "code",
   "execution_count": 8,
   "metadata": {},
   "outputs": [],
   "source": [
    "# Aggregate home performance metrics\n",
    "home_stats = df.groupby('HomeTeam').agg(\n",
    "    home_matches=('FTHG', 'count'),\n",
    "    home_goals_scored=('FTHG', 'sum'),\n",
    "    home_goals_conceded=('FTAG', 'sum'),\n",
    "    home_goal_difference=('home_goal_diff', 'sum'),\n",
    "    home_wins=('home_win', 'sum'),\n",
    "    home_draws=('home_draw', 'sum'),\n",
    "    home_losses=('home_loss', 'sum'),\n",
    "    home_avg_goals_scored=('FTHG', 'mean'),\n",
    "    home_avg_goals_conceded=('FTAG', 'mean')\n",
    ").reset_index().rename(columns={'HomeTeam': 'Team'})\n",
    "\n",
    "# Aggregate away performance metrics\n",
    "away_stats = df.groupby('AwayTeam').agg(\n",
    "    away_matches=('FTAG', 'count'),\n",
    "    away_goals_scored=('FTAG', 'sum'),\n",
    "    away_goals_conceded=('FTHG', 'sum'),\n",
    "    away_goal_difference=('away_goal_diff', 'sum'),\n",
    "    away_wins=('away_win', 'sum'),\n",
    "    away_draws=('away_draw', 'sum'),\n",
    "    away_losses=('away_loss', 'sum'),\n",
    "    away_avg_goals_scored=('FTAG', 'mean'),\n",
    "    away_avg_goals_conceded=('FTHG', 'mean')\n",
    ").reset_index().rename(columns={'AwayTeam': 'Team'})"
   ]
  },
  {
   "cell_type": "code",
   "execution_count": 9,
   "metadata": {},
   "outputs": [],
   "source": [
    "team_stats = pd.merge(home_stats, away_stats, on='Team', how='outer').fillna(0)"
   ]
  },
  {
   "cell_type": "code",
   "execution_count": 10,
   "metadata": {},
   "outputs": [],
   "source": [
    "# Calculate overall metrics:\n",
    "team_stats['total_matches'] = team_stats['home_matches'] + team_stats['away_matches']\n",
    "team_stats['total_goals_scored'] = team_stats['home_goals_scored'] + team_stats['away_goals_scored']\n",
    "team_stats['total_goals_conceded'] = team_stats['home_goals_conceded'] + team_stats['away_goals_conceded']\n",
    "team_stats['total_goal_difference'] = team_stats['home_goal_difference'] + team_stats['away_goal_difference']\n",
    "\n",
    "# Total wins, draws, and losses across all matches\n",
    "team_stats['wins'] = team_stats['home_wins'] + team_stats['away_wins']\n",
    "team_stats['draws'] = team_stats['home_draws'] + team_stats['away_draws']\n",
    "team_stats['losses'] = team_stats['home_losses'] + team_stats['away_losses']\n",
    "\n",
    "# Calculate total points (win = 3, draw = 1, loss = 0)\n",
    "team_stats['points'] = team_stats['wins'] * 3 + team_stats['draws']\n",
    "\n",
    "# Average goals per match (overall)\n",
    "team_stats['avg_goals_scored'] = team_stats['total_goals_scored'] / team_stats['total_matches']\n",
    "team_stats['avg_goals_conceded'] = team_stats['total_goals_conceded'] / team_stats['total_matches']"
   ]
  },
  {
   "cell_type": "code",
   "execution_count": null,
   "metadata": {},
   "outputs": [],
   "source": [
    "# Display the derived team performance metrics\n",
    "print(\"\\nTeam Performance Metrics:\")\n",
    "print(team_stats.sort_values(by='points', ascending=False))"
   ]
  },
  {
   "cell_type": "code",
   "execution_count": 20,
   "metadata": {},
   "outputs": [
    {
     "name": "stdout",
     "output_type": "stream",
     "text": [
      "                 Generalized Linear Model Regression Results                  \n",
      "==============================================================================\n",
      "Dep. Variable:                   FTHG   No. Observations:                  380\n",
      "Model:                            GLM   Df Residuals:                      341\n",
      "Model Family:                 Poisson   Df Model:                           38\n",
      "Link Function:                    Log   Scale:                          1.0000\n",
      "Method:                          IRLS   Log-Likelihood:                -542.31\n",
      "Date:                Wed, 05 Feb 2025   Deviance:                       376.13\n",
      "Time:                        19:40:24   Pearson chi2:                     328.\n",
      "No. Iterations:                    71   Pseudo R-squ. (CS):             0.2609\n",
      "Covariance Type:            nonrobust                                         \n",
      "====================================================================================\n",
      "                       coef    std err          z      P>|z|      [0.025      0.975]\n",
      "------------------------------------------------------------------------------------\n",
      "const                0.2686      0.042      6.404      0.000       0.186       0.351\n",
      "Home_Alaves         -0.1232      0.203     -0.606      0.544      -0.521       0.275\n",
      "Home_Almeria        -0.1453      0.208     -0.700      0.484      -0.552       0.262\n",
      "Home_Ath Bilbao      0.4655      0.153      3.040      0.002       0.165       0.766\n",
      "Home_Ath Madrid      0.4693      0.153      3.065      0.002       0.169       0.769\n",
      "Home_Barcelona       0.4968      0.152      3.278      0.001       0.200       0.794\n",
      "Home_Betis           0.0357      0.188      0.189      0.850      -0.333       0.405\n",
      "Home_Cadiz          -0.4702      0.242     -1.944      0.052      -0.944       0.004\n",
      "Home_Celta          -0.2013      0.212     -0.949      0.343      -0.617       0.215\n",
      "Home_Getafe         -0.2540      0.217     -1.169      0.242      -0.680       0.172\n",
      "Home_Girona          0.7126      0.138      5.169      0.000       0.442       0.983\n",
      "Home_Granada        -0.0427      0.199     -0.214      0.830      -0.433       0.348\n",
      "Home_Las Palmas     -0.2632      0.217     -1.212      0.225      -0.689       0.162\n",
      "Home_Mallorca       -0.4242      0.235     -1.806      0.071      -0.884       0.036\n",
      "Home_Osasuna        -0.3091      0.223     -1.389      0.165      -0.745       0.127\n",
      "Home_Real Madrid     0.5957      0.144      4.135      0.000       0.313       0.878\n",
      "Home_Sevilla         0.0375      0.188      0.199      0.842      -0.331       0.406\n",
      "Home_Sociedad       -0.0151      0.192     -0.079      0.937      -0.391       0.360\n",
      "Home_Valencia       -0.2558      0.217     -1.178      0.239      -0.682       0.170\n",
      "Home_Vallecano      -0.3779      0.228     -1.655      0.098      -0.826       0.070\n",
      "Home_Villarreal      0.3376      0.165      2.051      0.040       0.015       0.660\n",
      "Away_Alaves         -0.0081      0.188     -0.043      0.965      -0.376       0.360\n",
      "Away_Almeria         0.3587      0.158      2.269      0.023       0.049       0.669\n",
      "Away_Ath Bilbao     -0.3249      0.222     -1.461      0.144      -0.761       0.111\n",
      "Away_Ath Madrid     -0.2245      0.212     -1.059      0.290      -0.640       0.191\n",
      "Away_Barcelona      -0.1313      0.203     -0.647      0.518      -0.529       0.266\n",
      "Away_Betis          -0.0385      0.191     -0.201      0.840      -0.413       0.336\n",
      "Away_Cadiz           0.2672      0.164      1.629      0.103      -0.054       0.589\n",
      "Away_Celta           0.2192      0.169      1.301      0.193      -0.111       0.549\n",
      "Away_Getafe          0.1566      0.173      0.903      0.366      -0.183       0.496\n",
      "Away_Girona          0.0112      0.192      0.059      0.953      -0.364       0.387\n",
      "Away_Granada         0.5498      0.145      3.789      0.000       0.265       0.834\n",
      "Away_Las Palmas     -0.0137      0.188     -0.073      0.942      -0.382       0.355\n",
      "Away_Mallorca        0.0173      0.185      0.093      0.926      -0.345       0.379\n",
      "Away_Osasuna         0.0901      0.179      0.504      0.614      -0.260       0.440\n",
      "Away_Real Madrid    -0.4250      0.235     -1.811      0.070      -0.885       0.035\n",
      "Away_Sevilla        -0.0007      0.188     -0.004      0.997      -0.369       0.368\n",
      "Away_Sociedad       -0.3547      0.222     -1.595      0.111      -0.790       0.081\n",
      "Away_Valencia        0.1248      0.176      0.709      0.478      -0.220       0.470\n",
      "Away_Vallecano      -0.2224      0.207     -1.074      0.283      -0.628       0.184\n",
      "Away_Villarreal      0.2177      0.171      1.273      0.203      -0.118       0.553\n",
      "====================================================================================\n",
      "\n",
      "Test MSE: 1.296780847586141\n",
      "Test MAE: 0.8725406792341175\n",
      "\n",
      "Comparison of Actual vs. Predicted Home Goals:\n",
      "        Date    HomeTeam  Actual Home Goals  Predicted Home Goals\n",
      "0 2024-08-15  Ath Bilbao                  1                  2.44\n",
      "1 2024-08-15       Betis                  1                  1.37\n",
      "2 2024-08-16       Celta                  2                  1.06\n",
      "3 2024-08-16  Las Palmas                  2                  1.00\n",
      "4 2024-08-17     Osasuna                  1                  0.96\n",
      "5 2024-08-17    Valencia                  1                  0.89\n",
      "6 2024-08-18    Sociedad                  1                  1.03\n",
      "7 2024-08-18    Mallorca                  1                  0.56\n",
      "8 2024-08-19  Valladolid                  1                  1.31\n",
      "9 2024-08-19  Villarreal                  2                  1.46\n"
     ]
    }
   ],
   "source": [
    "import pandas as pd\n",
    "import numpy as np\n",
    "import statsmodels.api as sm\n",
    "from sklearn.metrics import mean_squared_error, mean_absolute_error\n",
    "\n",
    "# Read the CSV files for season 2425 and season 2324\n",
    "df_2425 = pd.read_csv('season-2425.csv', encoding='utf-8')\n",
    "df_2324 = pd.read_csv('season-2324.csv', encoding='utf-8')\n",
    "\n",
    "# Clean column names and convert the 'Date' column for both datasets\n",
    "for df in [df_2425, df_2324]:\n",
    "    df.columns = df.columns.str.strip()  # remove extra whitespace\n",
    "    df['Date'] = pd.to_datetime(df['Date'], format='%d/%m/%y')  # convert dates\n",
    "\n",
    "\n",
    "df_train = df_2324.copy()\n",
    "df_test = df_2425.copy()\n",
    "\n",
    "# Training set:\n",
    "train_home_dummies = pd.get_dummies(df_train['HomeTeam'], prefix='Home')\n",
    "train_away_dummies = pd.get_dummies(df_train['AwayTeam'], prefix='Away')\n",
    "X_train = pd.concat([train_home_dummies, train_away_dummies], axis=1)\n",
    "X_train = sm.add_constant(X_train)  # adds an intercept term\n",
    "y_train = df_train['FTHG']  # using full-time home goals as the target\n",
    "\n",
    "# Test set:\n",
    "test_home_dummies = pd.get_dummies(df_test['HomeTeam'], prefix='Home')\n",
    "test_away_dummies = pd.get_dummies(df_test['AwayTeam'], prefix='Away')\n",
    "X_test = pd.concat([test_home_dummies, test_away_dummies], axis=1)\n",
    "X_test = sm.add_constant(X_test)\n",
    "y_test = df_test['FTHG']\n",
    "\n",
    "X_test = X_test.reindex(columns=X_train.columns, fill_value=0)\n",
    "\n",
    "X_train = X_train.astype(float)\n",
    "X_test = X_test.astype(float)\n",
    "y_train = pd.to_numeric(y_train, errors='coerce')\n",
    "y_test = pd.to_numeric(y_test, errors='coerce')\n",
    "\n",
    "if X_train.isnull().values.any() or y_train.isnull().values.any():\n",
    "    raise ValueError(\"Found NaN values in training data after conversion. Check your inputs.\")\n",
    "\n",
    "poisson_model = sm.GLM(y_train, X_train, family=sm.families.Poisson())\n",
    "poisson_results = poisson_model.fit()\n",
    "print(poisson_results.summary())\n",
    "\n",
    "y_pred = poisson_results.predict(X_test)\n",
    "mse = mean_squared_error(y_test, y_pred)\n",
    "mae = mean_absolute_error(y_test, y_pred)\n",
    "print(\"\\nTest MSE:\", mse)\n",
    "print(\"Test MAE:\", mae)\n",
    "\n",
    "# Show a few predictions compared to actual values\n",
    "comparison = pd.DataFrame({\n",
    "    'Date': df_test['Date'],\n",
    "    'HomeTeam': df_test['HomeTeam'],\n",
    "    'Actual Home Goals': y_test,\n",
    "    'Predicted Home Goals': np.round(y_pred, 2)\n",
    "})\n",
    "print(\"\\nComparison of Actual vs. Predicted Home Goals:\")\n",
    "print(comparison.head(10))\n",
    "\n",
    "\n"
   ]
  },
  {
   "cell_type": "code",
   "execution_count": 21,
   "metadata": {},
   "outputs": [],
   "source": [
    "remaining_matches = pd.read_csv('remaining-fixtures.csv', encoding='utf-8')\n",
    "\n",
    "remaining_matches.drop(columns=['Location', 'Round Number', 'Match Number'], inplace=True)"
   ]
  },
  {
   "cell_type": "code",
   "execution_count": 22,
   "metadata": {},
   "outputs": [
    {
     "name": "stdout",
     "output_type": "stream",
     "text": [
      "               Date       Home Team           Away Team  Result\n",
      "0  07/02/2025 20:00  Rayo Vallecano  Real Valladolid CF     NaN\n",
      "1  08/02/2025 13:00        RC Celta          Real Betis     NaN\n",
      "2  08/02/2025 15:15   Athletic Club           Girona FC     NaN\n",
      "3  08/02/2025 17:30   UD Las Palmas       Villarreal CF     NaN\n",
      "4  08/02/2025 20:00     Real Madrid  Atlético de Madrid     NaN\n"
     ]
    }
   ],
   "source": [
    "print(remaining_matches.head())"
   ]
  },
  {
   "cell_type": "code",
   "execution_count": null,
   "metadata": {},
   "outputs": [],
   "source": []
  }
 ],
 "metadata": {
  "kernelspec": {
   "display_name": "myenv",
   "language": "python",
   "name": "python3"
  },
  "language_info": {
   "codemirror_mode": {
    "name": "ipython",
    "version": 3
   },
   "file_extension": ".py",
   "mimetype": "text/x-python",
   "name": "python",
   "nbconvert_exporter": "python",
   "pygments_lexer": "ipython3",
   "version": "3.13.0"
  }
 },
 "nbformat": 4,
 "nbformat_minor": 2
}
